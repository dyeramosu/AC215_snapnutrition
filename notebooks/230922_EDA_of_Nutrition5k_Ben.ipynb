{
 "cells": [
  {
   "cell_type": "markdown",
   "id": "de17f0d7-db6c-4d0a-81dc-3ec21d288d32",
   "metadata": {},
   "source": [
    "# Initial EDA of Nutrition5k Image Data\n",
    "\n",
    "- Started Date: 9/22/2023\n",
    "- By: Ben Fulroth"
   ]
  },
  {
   "cell_type": "code",
   "execution_count": 61,
   "id": "382bb3b7-be06-47f3-9fd5-18ae51224ace",
   "metadata": {},
   "outputs": [],
   "source": [
    "import pandas as pd\n",
    "import numpy as np\n",
    "import matplotlib.pyplot as plt\n",
    "\n",
    "import os\n",
    "import re\n",
    "import math\n",
    "import time\n",
    "import random\n",
    "\n",
    "from time import sleep\n",
    "from collections import Counter\n",
    "from collections import defaultdict\n",
    "from glob import glob\n",
    "from tqdm import tqdm\n",
    "from IPython.display import Image\n",
    "import shutil\n",
    "#from sci_nb_functools import nb_functools"
   ]
  },
  {
   "cell_type": "markdown",
   "id": "22f78d52-2650-4b51-9df4-6df8e6d5d018",
   "metadata": {},
   "source": [
    "### __Data Source:__ Nutrition5k-Realsense-overhead\n",
    "\n",
    "- Note: Focus on overhead images taken by a robot to simplify\n",
    "- Overhead images of food are stored in a public GCS bucket [here](https://console.cloud.google.com/storage/browser/nutrition5k_dataset)\n",
    "- Bucket has a nested structure where the images we want are in a subfolder: `imagery/realsense_overhead`\n",
    "- Within `imagery/realsense_overhead` are folders with names that match the meal id.\n",
    "- Within these folders are 3 image files; depth_color.png, depth_raw.png, rgb.png\n",
    "- We want the rgb but all are named this so we need to rename it.\n",
    "- Rename these images the folder name so we can find their nutrition info.\n"
   ]
  },
  {
   "cell_type": "markdown",
   "id": "a2f65eea-eb89-4d07-b494-8a97bfbc852e",
   "metadata": {},
   "source": [
    "### Downloading the images from GCS using `gsutil`\n",
    "\n",
    "- Using the `gsutil` you can target a single directory or file for download on the Google Cloud Storage.  Here is a link to download the tool. [https://cloud.google.com/storage/docs/gsutil](https://cloud.google.com/storage/docs/gsutil)\n",
    "- Only the folder containing realsense_overhead images was downloaded locally using the following commmand: `gsutil -m cp -r \"gs://nutrition5k_dataset/nutrition5k_dataset/imagery/realsense_overhead\" .`"
   ]
  },
  {
   "cell_type": "markdown",
   "id": "37b309b3-eb1b-43b6-8e69-8697a04ce56c",
   "metadata": {},
   "source": [
    "### Psudo Code for Container\n",
    "\n",
    "- Images are stored in a GSB in a folder called img_original\n",
    "- Images are downloaded resized and sent back to another folder called img_resized\n",
    "- The the entire bucket is data version controled using DVC"
   ]
  },
  {
   "cell_type": "code",
   "execution_count": 63,
   "id": "d2495091-f68d-4ba1-9044-70bc5e24e0c3",
   "metadata": {},
   "outputs": [
    {
     "name": "stdout",
     "output_type": "stream",
     "text": [
      "dish_1565379827\n",
      "dish_1563468269\n",
      "dish_1563389786\n",
      "dish_1561662458\n",
      "dish_1559593794\n",
      "dish_1562787783\n",
      "dish_1558725353\n",
      "dish_1574184971\n",
      "dish_1557936555\n"
     ]
    }
   ],
   "source": [
    "\n",
    "\n",
    "# Source and destination directories\n",
    "src_path_of_ori_dir = '/Users/fulroth/Downloads/realsense_overhead'\n",
    "dst_of_save_dir = '/Users/fulroth/Downloads/realsense_curated'\n",
    "\n",
    "i = 0\n",
    "\n",
    "for path, dirc, files in os.walk(src_path_of_ori_dir):\n",
    "    \n",
    "    if i > 0:\n",
    "    \n",
    "        print(os.path.basename(path))\n",
    "    # Save the folder name which is the dish id\n",
    "    for name in files:\n",
    "        \n",
    "        if 'rgb' in name:\n",
    "            \n",
    "            shutil.copy(src=os.path.join(path, name), dst=os.path.join(dst_of_save_dir, os.path.basename(path).strip('dish_') + '.png'))\n",
    "    \n",
    "    i += 1\n",
    "    \n",
    "    if i == 10:\n",
    "        break"
   ]
  },
  {
   "cell_type": "markdown",
   "id": "54092a56-0455-4452-b435-e4ba3d8ac4ba",
   "metadata": {},
   "source": [
    "### Loop through the curated images and resize"
   ]
  },
  {
   "cell_type": "code",
   "execution_count": 64,
   "id": "fe3ef94a-46ae-4d6d-b59e-7f603867a6f5",
   "metadata": {},
   "outputs": [],
   "source": [
    "currated_img_dir = dst_of_save_dir\n",
    "resize_img_dir = '/Users/fulroth/Downloads/resized_currated_imgs'\n",
    "\n",
    "from PIL import Image\n",
    "\n",
    "def resize_image(image_path, target_size):\n",
    "    \n",
    "    # Open the image using Pillow\n",
    "    image = Image.open(image_path)\n",
    "    \n",
    "    # Resize the image while maintaining the aspect ratio\n",
    "    image.resize(target_size)\n",
    "    \n",
    "    # Return the resized image\n",
    "    return image\n"
   ]
  },
  {
   "cell_type": "code",
   "execution_count": 65,
   "id": "0c54d9dd-3c07-448b-b444-31f741210fb6",
   "metadata": {},
   "outputs": [
    {
     "name": "stdout",
     "output_type": "stream",
     "text": [
      "(640, 480)\n",
      "(640, 480)\n",
      "(640, 480)\n",
      "(640, 480)\n",
      "(640, 480)\n",
      "(640, 480)\n",
      "(640, 480)\n",
      "(640, 480)\n",
      "(640, 480)\n",
      "(640, 480)\n",
      "(640, 480)\n",
      "(640, 480)\n",
      "(640, 480)\n",
      "(640, 480)\n",
      "(640, 480)\n",
      "(640, 480)\n",
      "(640, 480)\n",
      "(640, 480)\n"
     ]
    }
   ],
   "source": [
    "ls_imgs = glob(currated_img_dir + '/*.png')\n",
    "\n",
    "\n",
    "for img in ls_imgs:\n",
    "    \n",
    "    image = Image.open(img)\n",
    "    print(image.size)"
   ]
  },
  {
   "cell_type": "markdown",
   "id": "68b6d28f-af91-4ba1-8955-c38f20337ed4",
   "metadata": {},
   "source": [
    "__It turns out that all images are of the same size!__"
   ]
  },
  {
   "cell_type": "markdown",
   "id": "dbd17b1e-2e42-49e1-988d-4cb114d8bf83",
   "metadata": {},
   "source": [
    "### Let's move on to creating a TF Dataset"
   ]
  },
  {
   "cell_type": "code",
   "execution_count": null,
   "id": "117f4b4e-ba96-4a27-8ede-44cfe21b0238",
   "metadata": {},
   "outputs": [],
   "source": []
  }
 ],
 "metadata": {
  "kernelspec": {
   "display_name": "DATA_SCIENCE",
   "language": "python",
   "name": "data_science"
  },
  "language_info": {
   "codemirror_mode": {
    "name": "ipython",
    "version": 3
   },
   "file_extension": ".py",
   "mimetype": "text/x-python",
   "name": "python",
   "nbconvert_exporter": "python",
   "pygments_lexer": "ipython3",
   "version": "3.10.4"
  }
 },
 "nbformat": 4,
 "nbformat_minor": 5
}
