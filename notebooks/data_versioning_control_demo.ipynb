{
 "nbformat": 4,
 "nbformat_minor": 0,
 "metadata": {
  "colab": {
   "provenance": []
  },
  "kernelspec": {
   "name": "python3",
   "display_name": "Python 3"
  },
  "language_info": {
   "name": "python"
  }
 },
 "cells": [
  {
   "cell_type": "markdown",
   "source": [
    "# DVC Demo of Common Use Case\n",
    "\n",
    "Nutrition5k has dish images and corresponding dish macronutrient labels (csv format) from different Google cafeterias. This tutorial walks through pulling different versions out of the dish macro label csv's.  In the future, this will be useful when we start adding new batches of images and label csv's (or make changes).\n",
    "\n",
    "Note: This notebook is intended to run in Google Colab and assumes previous versions of the desired dataset were already tagged with DVC"
   ],
   "metadata": {
    "id": "kvRkqxcNSANY"
   }
  },
  {
   "cell_type": "markdown",
   "source": [
    "## Install DVC"
   ],
   "metadata": {
    "id": "bSFIohRI99VU"
   }
  },
  {
   "cell_type": "code",
   "execution_count": 1,
   "metadata": {
    "id": "YpV7hJzDR6Bv"
   },
   "outputs": [],
   "source": [
    "#dvc installation uncomment below to run in this cell\n",
    "\n",
    "#!pip install dvc dvc-gs"
   ]
  },
  {
   "cell_type": "code",
   "source": [
    "import os\n",
    "import cv2\n",
    "import numpy as np\n",
    "import pandas as pd\n",
    "\n",
    "# Colab auth\n",
    "from google.colab import auth\n",
    "from google.cloud import storage\n",
    "\n",
    "import dvc.api"
   ],
   "metadata": {
    "id": "boPQHgnkSGwU"
   },
   "execution_count": 2,
   "outputs": []
  },
  {
   "cell_type": "code",
   "source": [
    "# This step is required for DVC in colab to access our Google Bucket\n",
    "auth.authenticate_user()"
   ],
   "metadata": {
    "id": "VFpr6PnLSaY1"
   },
   "execution_count": 3,
   "outputs": []
  },
  {
   "cell_type": "markdown",
   "source": [
    "### Utils\n"
   ],
   "metadata": {
    "id": "s4QMnQlM5sD5"
   }
  },
  {
   "cell_type": "code",
   "source": [
    "# util to show metrics\n",
    "def print_directory_metrics(dataset_path):\n",
    "\n",
    "  file_names = os.listdir(dataset_path)\n",
    "  print(\"Files:\", file_names)"
   ],
   "metadata": {
    "id": "nqmXHOwg5qB8"
   },
   "execution_count": 7,
   "outputs": []
  },
  {
   "cell_type": "markdown",
   "source": [
    "## View Remote Data"
   ],
   "metadata": {
    "id": "0De8v7AOShOS"
   }
  },
  {
   "cell_type": "code",
   "source": [
    "# Replace github url with your url\n",
    "# add git personal access token in front of @github if repo is private\n",
    "\n",
    "!dvc list -R https://{INSERT_GIT_CLASSIC_PERSONAL_TOKEN}@github.com/dyeramosu/AC215_snapnutrition/"
   ],
   "metadata": {
    "colab": {
     "base_uri": "https://localhost:8080/"
    },
    "id": "hN_adz7TSf6-",
    "outputId": "b193d4eb-95b2-47d1-b0ba-92f30e968dd6"
   },
   "execution_count": 8,
   "outputs": [
    {
     "output_type": "stream",
     "name": "stdout",
     "text": [
      ".gitignore\n",
      "README.md\n",
      "app/.flaskenv\n",
      "app/.gitignore\n",
      "app/Dockerfile\n",
      "app/Pipfile\n",
      "app/Pipfile.lock\n",
      "app/app.py\n",
      "app/static/css/custom_styles.css\n",
      "app/static/css/styles.css\n",
      "app/static/fonts/glyphicons-halflings-regular.eot\n",
      "app/static/fonts/glyphicons-halflings-regular.svg\n",
      "app/static/fonts/glyphicons-halflings-regular.ttf\n",
      "app/static/fonts/glyphicons-halflings-regular.woff\n",
      "app/static/fonts/glyphicons-halflings-regular.woff2\n",
      "app/static/img/1837-diabetic-pecan-crusted-chicken-breast_JulAug20DF_clean-simple_061720 Background Removed.png\n",
      "app/static/img/1837-diabetic-pecan-crusted-chicken-breast_JulAug20DF_clean-simple_061720.jpg\n",
      "app/static/img/construction_img.jpeg\n",
      "app/static/img/sample_upload_file_ui.png\n",
      "app/static/js/main.js\n",
      "app/static/js/scripts.js\n",
      "app/templates/layouts/main.html\n",
      "app/templates/pages/home.html\n",
      "app/templates/pages/results.html\n",
      "app/templates/pages/under_construction.html\n",
      "app/templates/pages/upload_photo.html\n"
     ]
    }
   ]
  },
  {
   "cell_type": "markdown",
   "source": [
    "Previously, we tagged version 1 of our dishlabels under the git tag \"dishlabels_raw_v1\""
   ],
   "metadata": {
    "id": "JumzCsJIEtCr"
   }
  },
  {
   "cell_type": "code",
   "source": [
    "#delete existing dish_labels folder if exists, and download v1\n",
    "!rm -rf dish_labels\n",
    "!dvc get https://{INSERT_GIT_CLASSIC_PERSONAL_TOKEN}@github.com/dyeramosu/AC215_snapnutrition/ snapnutrition_data_bucket/data/raw_data/Nutrition5k_Other/dish_labels --force --rev dishlabels_raw_v1"
   ],
   "metadata": {
    "colab": {
     "base_uri": "https://localhost:8080/"
    },
    "id": "3XCuDc5Uzdvk",
    "outputId": "34332b37-95ec-40c3-ac0a-aa11467c9c54"
   },
   "execution_count": 9,
   "outputs": [
    {
     "output_type": "stream",
     "name": "stdout",
     "text": [
      "Downloading dish_labels:   0% 0/2 [00:00<?, ?files/s{'info': ''}] \n",
      "!\n",
      "  0%|          |snapnutrition_data_bucket/data/raw_0.00/? [00:00<?,        ?B/s]\n",
      "  0% 0.00/99.4k [00:00<?, ?B/s{'info': ''}]                                     \n",
      "\n",
      "!\n",
      "\n",
      "  0%|          |snapnutrition_data_bucket/data/raw_0.00/? [00:00<?,        ?B/s]\n",
      "\n",
      "  0% 0.00/2.10M [00:00<?, ?B/s{'info': ''}]                                     \n",
      " 39% 38.9k/99.4k [00:00<00:00, 339kB/s{'info': ''}]\n",
      "\n",
      "  2% 46.9k/2.10M [00:00<00:05, 407kB/s{'info': ''}]\n",
      "Downloading dish_labels:  50% 1/2 [00:00<00:00,  1.49files/s{'info': ''}]\n",
      "                                                   \n",
      "\n",
      "  4% 78.9k/2.10M [00:00<00:06, 329kB/s{'info': ''}]\n",
      "\n",
      " 12% 255k/2.10M [00:00<00:02, 872kB/s{'info': ''}] \n",
      "\n",
      " 26% 559k/2.10M [00:00<00:00, 1.67MB/s{'info': ''}]\n",
      "\n",
      " 48% 1.01M/2.10M [00:00<00:00, 2.73MB/s{'info': ''}]\n",
      "\n",
      "Downloading dish_labels: 100% 2/2 [00:01<00:00,  1.80files/s{'info': ''}]\n"
     ]
    }
   ]
  },
  {
   "cell_type": "code",
   "source": [
    "# Check the dataset\n",
    "print_directory_metrics(\"dish_labels\")"
   ],
   "metadata": {
    "colab": {
     "base_uri": "https://localhost:8080/"
    },
    "id": "n8QywVTA4tXg",
    "outputId": "f13972be-bbf4-4234-e90c-bf385c640b5f"
   },
   "execution_count": 10,
   "outputs": [
    {
     "output_type": "stream",
     "name": "stdout",
     "text": [
      "Files: ['dish_metadata_cafe2.csv', 'dish_metadata_cafe1.csv']\n"
     ]
    }
   ]
  },
  {
   "cell_type": "markdown",
   "source": [
    "Hooray, we have the original 2 csv's from 2 Google cafeterias\n",
    "\n",
    "Next, let's show that we can pull 3 csv's when a 3rd csv is added for the git tag dishlabels_raw_v2"
   ],
   "metadata": {
    "id": "koPnTmCJE5ux"
   }
  },
  {
   "cell_type": "code",
   "source": [
    "#delete existing dish_labels folder if exists, and download v2\n",
    "\n",
    "!rm -rf dish_labels\n",
    "!dvc get https://{INSERT_GIT_CLASSIC_PERSONAL_TOKEN}@github.com/dyeramosu/AC215_snapnutrition/ snapnutrition_data_bucket/data/raw_data/Nutrition5k_Other/dish_labels --force --rev dishlabels_raw_v2"
   ],
   "metadata": {
    "colab": {
     "base_uri": "https://localhost:8080/"
    },
    "id": "niI4aeBq8-wc",
    "outputId": "ca867d2d-fb37-4632-a5da-36dd30c93a71"
   },
   "execution_count": 11,
   "outputs": [
    {
     "output_type": "stream",
     "name": "stdout",
     "text": [
      "Downloading dish_labels:   0% 0/3 [00:00<?, ?files/s{'info': ''}] \n",
      "!\n",
      "  0%|          |snapnutrition_data_bucket/data/raw_0.00/? [00:00<?,        ?B/s]\n",
      "  0% 0.00/99.4k [00:00<?, ?B/s{'info': ''}]                                     \n",
      "\n",
      "!\n",
      "\n",
      "  0%|          |snapnutrition_data_bucket/data/raw_0.00/? [00:00<?,        ?B/s]\n",
      "\n",
      "  0% 0.00/2.10M [00:00<?, ?B/s{'info': ''}]                                     \n",
      "\n",
      "\n",
      "!\n",
      "\n",
      "\n",
      "  0%|          |snapnutrition_data_bucket/data/raw_0.00/? [00:00<?,        ?B/s]\n",
      "\n",
      "\n",
      "  0% 0.00/99.4k [00:00<?, ?B/s{'info': ''}]                                     \n",
      " 63% 62.9k/99.4k [00:00<00:00, 550kB/s{'info': ''}]\n",
      "\n",
      "  3% 62.9k/2.10M [00:00<00:03, 553kB/s{'info': ''}]\n",
      "\n",
      "\n",
      " 55% 54.9k/99.4k [00:00<00:00, 452kB/s{'info': ''}]\n",
      "Downloading dish_labels:  33% 1/3 [00:00<00:01,  1.03files/s{'info': ''}]\n",
      "                                                   \n",
      "\n",
      "  4% 94.9k/2.10M [00:00<00:05, 393kB/s{'info': ''}]\n",
      "\n",
      "\n",
      " 95% 94.9k/99.4k [00:00<00:00, 380kB/s{'info': ''}]\n",
      "\n",
      "\n",
      "                                                   \n",
      "\n",
      " 13% 287k/2.10M [00:00<00:01, 986kB/s{'info': ''}] \n",
      "\n",
      " 27% 583k/2.10M [00:00<00:00, 1.72MB/s{'info': ''}]\n",
      "\n",
      " 51% 1.08M/2.10M [00:00<00:00, 2.92MB/s{'info': ''}]\n",
      "\n",
      "Downloading dish_labels: 100% 3/3 [00:01<00:00,  2.38files/s{'info': ''}]\n"
     ]
    }
   ]
  },
  {
   "cell_type": "code",
   "source": [
    "# Check the dataset\n",
    "print_directory_metrics(\"dish_labels\")"
   ],
   "metadata": {
    "colab": {
     "base_uri": "https://localhost:8080/"
    },
    "id": "PcUurQls9UA3",
    "outputId": "fc0f4757-d0ab-414b-da4e-b8589216ca3a"
   },
   "execution_count": 12,
   "outputs": [
    {
     "output_type": "stream",
     "name": "stdout",
     "text": [
      "Files: ['dish_metadata_cafe2.csv', 'dish_metadata_TESTcafe3.csv', 'dish_metadata_cafe1.csv']\n"
     ]
    }
   ]
  },
  {
   "cell_type": "markdown",
   "source": [
    "Hooray! We have the 3rd 'dish_metadata_TESTcafe3.csv' from a theoretical 3rd cafeteria or general new data label batch."
   ],
   "metadata": {
    "id": "vG023Xi6FNVv"
   }
  }
 ]
}
